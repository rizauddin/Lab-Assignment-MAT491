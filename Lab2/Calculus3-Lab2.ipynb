{
 "cells": [
  {
   "cell_type": "code",
   "execution_count": 52,
   "metadata": {
    "collapsed": false
   },
   "outputs": [
    {
     "name": "stdout",
     "output_type": "stream",
     "text": [
      "Populating the interactive namespace from numpy and matplotlib\n"
     ]
    }
   ],
   "source": [
    "%pylab inline\n",
    "import matplotlib.pyplot as plt\n",
    "import numpy as np\n",
    "from mpl_toolkits.mplot3d import Axes3D"
   ]
  },
  {
   "cell_type": "markdown",
   "metadata": {},
   "source": [
    "Q1.\n",
    "- Assign your name to a variable called \"my_name\".\n",
    "- Assign your student id to variable \"stud_id\".\n",
    "- Assign your group name to variable \"group\".\n",
    "- Use variable \"my_name\", \"stud_id\" and \"group\" to print your name, your student id and your group using \"print\" function in the following format:\n",
    "> Your Name - Your Student ID - Your Group Name\n",
    "\n",
    "- **For example:**\n",
    "> Ali bin Abu - 2000123456 - RCS12345\n"
   ]
  },
  {
   "cell_type": "markdown",
   "metadata": {},
   "source": [
    "**How to create vector:** https://docs.scipy.org/doc/numpy/user/basics.creation.html\n",
    "\n",
    "*Example*: To define vector $\\vec{v} = <1, 2, 3>$, type \n",
    "> v = np.array([1, 2, 3])\n",
    "\n",
    "**Dot product/scalar product/inner product (Calculus, Stewart pg 824):** https://docs.scipy.org/doc/numpy/reference/generated/numpy.inner.html\n",
    "\n",
    "*Example*: The dot product of two vectors $\\vec{u}$ and $\\vec{v}$ is \n",
    "> np.inner(a, b)\n",
    "\n",
    "**Length of vector:** https://docs.scipy.org/doc/numpy/reference/generated/numpy.linalg.norm.html\n",
    "\n",
    "*Example*: The length of vector $\\vec{v} = <1, 1, 1>$ is\n",
    "> np.linalg.norm(v)"
   ]
  },
  {
   "cell_type": "markdown",
   "metadata": {},
   "source": [
    "Vectors\n",
    "-------"
   ]
  },
  {
   "cell_type": "markdown",
   "metadata": {
    "collapsed": true
   },
   "source": [
    "Find the angle between the planes $x + y + z = 3$ and $x - 2y + 3z = 2$."
   ]
  },
  {
   "cell_type": "markdown",
   "metadata": {},
   "source": [
    "Q2. Step 1: Define the normal vectors of these planes n1 and n2."
   ]
  },
  {
   "cell_type": "code",
   "execution_count": null,
   "metadata": {
    "collapsed": false
   },
   "outputs": [],
   "source": []
  },
  {
   "cell_type": "markdown",
   "metadata": {},
   "source": [
    "Q3. Find the dot product of n1 and n2 and assign it to variable d."
   ]
  },
  {
   "cell_type": "code",
   "execution_count": null,
   "metadata": {
    "collapsed": false
   },
   "outputs": [],
   "source": []
  },
  {
   "cell_type": "markdown",
   "metadata": {},
   "source": [
    "Q4. Calculate the product of the length of vector n1 and n2 and assign it to variable nn."
   ]
  },
  {
   "cell_type": "code",
   "execution_count": null,
   "metadata": {
    "collapsed": false
   },
   "outputs": [],
   "source": []
  },
  {
   "cell_type": "markdown",
   "metadata": {},
   "source": [
    "Q5. Calculate the division of vv and nn and assign it to variable ac."
   ]
  },
  {
   "cell_type": "code",
   "execution_count": null,
   "metadata": {
    "collapsed": false
   },
   "outputs": [],
   "source": []
  },
  {
   "cell_type": "markdown",
   "metadata": {},
   "source": [
    "Q6. Calculate the angle between the planes by calculating the arccos of ac."
   ]
  },
  {
   "cell_type": "code",
   "execution_count": null,
   "metadata": {
    "collapsed": false
   },
   "outputs": [],
   "source": []
  },
  {
   "cell_type": "markdown",
   "metadata": {},
   "source": [
    "**End of questions.**"
   ]
  }
 ],
 "metadata": {
  "kernelspec": {
   "display_name": "Python 3",
   "language": "python",
   "name": "python3"
  },
  "language_info": {
   "codemirror_mode": {
    "name": "ipython",
    "version": 3
   },
   "file_extension": ".py",
   "mimetype": "text/x-python",
   "name": "python",
   "nbconvert_exporter": "python",
   "pygments_lexer": "ipython3",
   "version": "3.5.1"
  }
 },
 "nbformat": 4,
 "nbformat_minor": 0
}
